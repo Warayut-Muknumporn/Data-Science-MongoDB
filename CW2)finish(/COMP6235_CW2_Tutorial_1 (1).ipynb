{
 "cells": [
  {
   "cell_type": "markdown",
   "metadata": {
    "slideshow": {
     "slide_type": "slide"
    }
   },
   "source": [
    "# Coursework 2 - Tutorial (30 October 2020)\n",
    "Notebook prepared by your tutor Miya - Mengya.Liu@soton.ac.uk\n",
    "\n",
    "Feel free to modify as required.\n",
    "\n",
    "## Overview\n",
    "\n",
    "In this tutorial, we demonstrate how to connect a Jupyter Notebook on a remote VM.\n",
    "Please read the VM specification for further instructions [here](https://blackboard.soton.ac.uk/bbcswebdav/courses/COMP6235-34062-20-21/VM_instructions_for_students.pdf)."
   ]
  },
  {
   "cell_type": "markdown",
   "metadata": {},
   "source": [
    "## Set Up Connection with Jupyter Notebook on A Server\n",
    "\n",
    "You can only access VM Server by VPN. Do so through GlobalProtect, as detailed in the VM instructions on Blackboard [here](https://blackboard.soton.ac.uk/bbcswebdav/courses/COMP6235-34062-20-21/VM_instructions_for_students.pdf).\n",
    "\n",
    "All types of operating systems (MacOS, Windows, Linux), I assume ssh command is available on terminal. (ssh is installed by default in MacOS, Linux and Windows 10 systems, other Windows system users please refer to http://sshwindows.sourceforge.net.)\n",
    "\n",
    "### Connect to VM Server:\n",
    "ssh is the standard command to open an SSH connection to a remote server.\n",
    "> ssh [username]@[servername]\n",
    "\n",
    "In my case (open a terminal here):\n",
    "\n",
    "> ssh comp6235@cmp6235-ml3u17.ecs.soton.ac.uk\n",
    "\n",
    "Then, input your password for the server."
   ]
  },
  {
   "cell_type": "markdown",
   "metadata": {},
   "source": [
    "### Start Jupyter Notebook on the Server:\n",
    "> jupyter notebook\n",
    "\n",
    "<img src=\"remote_jupyter.png\" title=\"Title text\" width=\"700\" />\n",
    "The jupyter is protected by default with a random token, to securate it, a password is needed. \n",
    "\n",
    "#### Set Password for Jupyter Notebook\n",
    "First show down the jupyter notebook. Use Control-C to stop this server and shut down all kernels (twice to skip confirmation)\n",
    "\n",
    "Then, use the following command to set new password:\n",
    "> jupyter notebook password\n",
    "\n",
    "Followed by:\n",
    "> Enter password: <br>\n",
    "> Verify password: <br>\n",
    "[NotebookPasswordApp] Wrote hashed password to /home/comp6235/.jupyter/jupyter_notebook_config.json\n",
    "\n",
    "At this point, you have successfully set up your password for jupyter notetbook."
   ]
  },
  {
   "cell_type": "markdown",
   "metadata": {},
   "source": [
    "#### Connect to the Jupyter Notebook on the Server from Local\n",
    "Our goal is to let the Jupyter Notebook on the Server to run in your local browser. To do that, first disconnect with the VM by command\n",
    "> exit\n",
    "\n",
    "Then, we use the following command:\n",
    "\n",
    "> ssh -L [local port]:localhost:[remoteport] [username]@[servername]\n",
    "\n",
    "When ssh is used with the -L directive, you can specify that a given port on the local host (your pc) will be forwarded to a given host (VM Server) and port on the remote host (the server). This means that whatever is running on the specified port on the remote server (8888, Jupyter Notebook’s default port) will appear on the specified port on your local computer (8000 in the example command).\n",
    "\n",
    "In my case:\n",
    "> ssh -L 8000:localhost:8888 comp6235@cmp6235-ml3u17.ecs.soton.ac.uk\n",
    "\n",
    "If no error happend, then it will ask you to input your password to connect with the server, after which you are connected to the server, as the following figure shows.\n",
    "<img src=\"connect_remote_jupyter.png\" title=\"Title text\" width=\"800\" />\n",
    "\n",
    "Tips: when the command line head are in green color, you are process with your VM. Black color indicates that it's your local device that receives the commands.\n",
    "\n",
    "For now, you can start your Jupyter Notebook and choose your favorite browser to open jupyter notebook at the address you set. In my case, it is http://localhost:8000.\n",
    "\n",
    "<img src=\"jupyter_login.png\" title=\"Title text\" width=\"500\" />\n",
    "\n",
    "Input the password you set before, then you get access to the jupyter notebook running on the remote server."
   ]
  },
  {
   "cell_type": "markdown",
   "metadata": {},
   "source": [
    "### Jupyter Notebook Tips\n",
    "1. Jupyter Notebook is a browser-based tool for interactive explanatory text, mathematics, computations and coding. The main charactorics are cell and kernel. Cell is a component of your entire code to run separately. Kernel is the compiler you choose for your cells. There are different kernels working for varied programming languages. And Python 3 is the one you will use for CW2.\n",
    "\n",
    "2. Jupyter Notebook allows you to run your code from any cell, which asks run and save all previous cells. So, separate data loading and other process will save your time."
   ]
  },
  {
   "cell_type": "markdown",
   "metadata": {},
   "source": [
    "Test imformation"
   ]
  },
  {
   "cell_type": "markdown",
   "metadata": {
    "collapsed": true
   },
   "source": [
    "## Important Note"
   ]
  },
  {
   "cell_type": "markdown",
   "metadata": {},
   "source": [
    "- Always backup your file from the server. The server is not backed up automatically. If it crashes down, it can only be recreated to the initial version, with all files lost. It is really on yourself to backup your working file.\n",
    "\n",
    "    To tranfer files between local and the remote end by command: scp\n",
    "   > scp [file] [targetLocation]\n",
    "    \n",
    "    For example: \n",
    "   > scp test.txt comp6235@comp6235-ml3u17.ecs.soton.ac.uk:CW2/ <br>\n",
    "   > scp comp6235@comp6235-ml3u17.ecs.soton.ac.uk:CW2/test.txt /backup/"
   ]
  },
  {
   "cell_type": "markdown",
   "metadata": {},
   "source": [
    "- Create your own working folder and file on remote VM by command: 'mkdir' '>', 'touch' or anyother you like.\n",
    "    > mkdir [folder name] \n",
    "    \n",
    "    > \\> [file path/name]\n",
    "    \n",
    "    > touch [file path/name]"
   ]
  },
  {
   "cell_type": "markdown",
   "metadata": {},
   "source": [
    "- Jupyter's kernel uses a fair amount of memory, and we will be doing data processing, that takes even more memory! If you feel something is wrong, it might be good to monitor the memory . Jupyter allows you to run your code from any cell, which asks run and save all previous cells. So, remember to check the momery status by \n",
    "    > htop \n",
    "    \n",
    "    <img src=\"htop-command.png\" title=\"Title text\" width=\"500\" />\n",
    "    And stop it by Control+C.\n",
    "    If jupyter is running out of RAM, try to kill it by\n",
    "    > kill -9 [PID]\n"
   ]
  },
  {
   "cell_type": "markdown",
   "metadata": {
    "collapsed": true
   },
   "source": [
    "- Last but not least, your final code submission marking will based on its performance on the VM. If you choose to install all of the softwares on your laptop and work for CW2 locally or offline, it is really ok. But, better to test it on the VM to make sure it works as good as you expected. Note that if you run the coursework on a machine more powerful than the VM, you might not notice that a particular way you are doing things is not the more efficient."
   ]
  },
  {
   "cell_type": "code",
   "execution_count": null,
   "metadata": {
    "collapsed": true
   },
   "outputs": [],
   "source": []
  }
 ],
 "metadata": {
  "kernelspec": {
   "display_name": "Python 3",
   "language": "python",
   "name": "python3"
  },
  "language_info": {
   "codemirror_mode": {
    "name": "ipython",
    "version": 3
   },
   "file_extension": ".py",
   "mimetype": "text/x-python",
   "name": "python",
   "nbconvert_exporter": "python",
   "pygments_lexer": "ipython3",
   "version": "3.8.8"
  }
 },
 "nbformat": 4,
 "nbformat_minor": 2
}
